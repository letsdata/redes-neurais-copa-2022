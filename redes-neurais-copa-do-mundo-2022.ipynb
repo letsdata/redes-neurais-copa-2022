{
 "cells": [
  {
   "cell_type": "markdown",
   "id": "4e8691f0",
   "metadata": {},
   "source": [
    "# <a>Copa Cientista de Dados</a>"
   ]
  },
  {
   "cell_type": "code",
   "execution_count": 1,
   "id": "08b4a3b1",
   "metadata": {},
   "outputs": [],
   "source": [
    "from io import BytesIO\n",
    "\n",
    "# Principal\n",
    "import face_recognition\n",
    "import imageio.v2 as imageio\n",
    "import requests\n",
    "import os\n",
    "\n",
    "caminho_fotos = './data/raw/jogadores'"
   ]
  },
  {
   "cell_type": "code",
   "execution_count": 2,
   "id": "95c5ddec",
   "metadata": {},
   "outputs": [],
   "source": [
    "def reconhece_jogador(url_imagem_jogador):\n",
    "    lista_jogadores = os.listdir('./data/raw/jogadores')\n",
    "    scores = {jogador: 1.0 for jogador in lista_jogadores}\n",
    "\n",
    "    headers = {\n",
    "        \"Accept-Encoding\": \"gzip, deflate\",\n",
    "        \"Accept-Language\": \"en-GB,en-US;q=0.9,en;q=0.8\",\n",
    "        \"User-Agent\": \"Mozilla/5.0 (Macintosh; Intel Mac OS X 10_15_4) AppleWebKit/537.36 (KHTML, like Gecko) Chrome/83.0.4103.97 Safari/537.36\"\n",
    "    }\n",
    "\n",
    "    resposta_requisicao_jogador = requests.get(url_imagem_jogador, headers=headers)\n",
    "    id_image = imageio.imread(BytesIO(resposta_requisicao_jogador.content))\n",
    "    id_recognitions = face_recognition.face_encodings(id_image)\n",
    "\n",
    "    for diretorio_jogador in lista_jogadores:\n",
    "        imagens = os.path.join(caminho_fotos, diretorio_jogador)\n",
    "        imagens = os.listdir(imagens)\n",
    "\n",
    "        if len(imagens) == 0:\n",
    "            continue\n",
    "\n",
    "        soma_score_jogador = 0\n",
    "        for imagem in imagens:\n",
    "            caminho_imagem = os.path.join(caminho_fotos, diretorio_jogador, imagem)\n",
    "\n",
    "            #res_selfie = requests.get(url_selfie)\n",
    "            #selfie_image = imageio.imread(BytesIO(res_selfie.content))\n",
    "            selfie_image = imageio.imread(caminho_imagem)\n",
    "\n",
    "            if len(id_recognitions) == 0:\n",
    "                continue\n",
    "\n",
    "            id_image_encoding = id_recognitions[0]\n",
    "            known_encodings = [id_image_encoding]\n",
    "\n",
    "            selfie_recognitions = face_recognition.face_encodings(selfie_image)\n",
    "\n",
    "            if len(selfie_recognitions) == 0:\n",
    "                continue\n",
    "            else:\n",
    "                selfie_image_encoding = selfie_recognitions[0]\n",
    "\n",
    "                face_distances = face_recognition.face_distance(known_encodings, selfie_image_encoding)\n",
    "\n",
    "                soma_score_jogador += face_distances[0]\n",
    "\n",
    "        scores[diretorio_jogador] = soma_score_jogador / len(imagens)\n",
    "\n",
    "    return min(scores, key=scores.get)"
   ]
  },
  {
   "cell_type": "code",
   "execution_count": null,
   "id": "63616d62",
   "metadata": {},
   "outputs": [],
   "source": []
  },
  {
   "cell_type": "code",
   "execution_count": 3,
   "id": "e6656896",
   "metadata": {},
   "outputs": [
    {
     "name": "stdout",
     "output_type": "stream",
     "text": [
      "neymar\n"
     ]
    }
   ],
   "source": [
    "# Neymar\n",
    "url_id = 'https://d.newsweek.com/en/full/1512948/neymar-brazil.jpg?w=1600&h=1200&q=88&f=897b0f511dbc62336c7962fe88abf290'\n",
    "result = reconhece_jogador(url_id)\n",
    "print(result)"
   ]
  },
  {
   "cell_type": "code",
   "execution_count": 4,
   "id": "4bc480e7",
   "metadata": {},
   "outputs": [
    {
     "name": "stdout",
     "output_type": "stream",
     "text": [
      "mbappe\n"
     ]
    }
   ],
   "source": [
    "# Mbappe\n",
    "url_id = 'https://cdn.images.express.co.uk/img/dynamic/67/750x445/825806.jpg'\n",
    "result = reconhece_jogador(url_id)\n",
    "print(result)"
   ]
  },
  {
   "cell_type": "code",
   "execution_count": 5,
   "id": "723fd3c0",
   "metadata": {},
   "outputs": [
    {
     "name": "stdout",
     "output_type": "stream",
     "text": [
      "messi\n"
     ]
    }
   ],
   "source": [
    "# Messi\n",
    "url_id = 'https://encrypted-tbn0.gstatic.com/images?q=tbn:ANd9GcTDDdxtQt67vX13j3imLqiuHXxFfdNJY86IzA&usqp=CAU'\n",
    "result = reconhece_jogador(url_id)\n",
    "print(result)"
   ]
  },
  {
   "cell_type": "code",
   "execution_count": 6,
   "id": "d96c068f",
   "metadata": {},
   "outputs": [
    {
     "name": "stdout",
     "output_type": "stream",
     "text": [
      "cr7\n"
     ]
    }
   ],
   "source": [
    "# CR7\n",
    "url_id = 'https://images.teamtalk.com/content/uploads/2022/05/26102704/Cristiano-Ronaldo-Manchester-United1.jpg'\n",
    "result = reconhece_jogador(url_id)\n",
    "print(result)"
   ]
  },
  {
   "cell_type": "code",
   "execution_count": null,
   "id": "3522f7c5",
   "metadata": {},
   "outputs": [],
   "source": []
  }
 ],
 "metadata": {
  "kernelspec": {
   "display_name": "Python 3 (ipykernel)",
   "language": "python",
   "name": "python3"
  },
  "language_info": {
   "codemirror_mode": {
    "name": "ipython",
    "version": 3
   },
   "file_extension": ".py",
   "mimetype": "text/x-python",
   "name": "python",
   "nbconvert_exporter": "python",
   "pygments_lexer": "ipython3",
   "version": "3.9.0"
  }
 },
 "nbformat": 4,
 "nbformat_minor": 5
}
